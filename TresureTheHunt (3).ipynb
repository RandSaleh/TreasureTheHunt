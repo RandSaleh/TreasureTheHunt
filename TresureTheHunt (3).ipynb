{
 "cells": [
  {
   "cell_type": "code",
   "execution_count": 10,
   "metadata": {},
   "outputs": [],
   "source": [
    "# store the Hunt in a random number in [0,100]"
   ]
  },
  {
   "cell_type": "code",
   "execution_count": 11,
   "metadata": {},
   "outputs": [],
   "source": [
    "import random as rnd\n",
    "import time \n"
   ]
  },
  {
   "cell_type": "code",
   "execution_count": 12,
   "metadata": {},
   "outputs": [
    {
     "data": {
      "text/plain": [
       "62"
      ]
     },
     "execution_count": 12,
     "metadata": {},
     "output_type": "execute_result"
    }
   ],
   "source": [
    "Hunt= rnd.randint(0,100) # we store the hunt \n",
    "Hunt"
   ]
  },
  {
   "cell_type": "code",
   "execution_count": null,
   "metadata": {},
   "outputs": [],
   "source": []
  },
  {
   "cell_type": "code",
   "execution_count": 13,
   "metadata": {},
   "outputs": [],
   "source": [
    "def first_comparision(answer):\n",
    "    firstTry = abs(answer - Hunt)   \n",
    "    if firstTry <= 10:\n",
    "        print('Close :) ')\n",
    "    else:\n",
    "         print('Farther :( ')"
   ]
  },
  {
   "cell_type": "code",
   "execution_count": 14,
   "metadata": {},
   "outputs": [],
   "source": [
    "def otherComparison(lst , lastIndex):\n",
    "    currentValue= lst[lastIndex - 1] \n",
    "    prevValue = lst[lastIndex - 2]\n",
    "    prevFar = abs(Hunt - prevValue)\n",
    "    currentFar = abs (Hunt - currentValue)\n",
    "    if currentFar > prevFar :\n",
    "        print('No, you are more away Farther')\n",
    "    elif currentFar < prevFar:\n",
    "            print(' yes, you are more closer keep going ')\n",
    "    else : \n",
    "            print('same way farther try another number ')\n",
    "  "
   ]
  },
  {
   "cell_type": "code",
   "execution_count": 15,
   "metadata": {},
   "outputs": [],
   "source": [
    "# list of number to store the tries ! "
   ]
  },
  {
   "cell_type": "code",
   "execution_count": 16,
   "metadata": {},
   "outputs": [],
   "source": [
    "myTry = []"
   ]
  },
  {
   "cell_type": "code",
   "execution_count": 17,
   "metadata": {},
   "outputs": [],
   "source": [
    "numTry = 0"
   ]
  },
  {
   "cell_type": "code",
   "execution_count": 18,
   "metadata": {},
   "outputs": [
    {
     "name": "stdout",
     "output_type": "stream",
     "text": [
      " enter a try from [0,100]      your answer is : 50\n",
      "Farther :( \n",
      " enter a try from [0,100]      your answer is : 100\n",
      "No, you are more away Farther\n",
      " enter a try from [0,100]      your answer is : 40\n",
      " yes, you are more closer keep going \n",
      " enter a try from [0,100]      your answer is : 30\n",
      "No, you are more away Farther\n",
      " enter a try from [0,100]      your answer is : 25\n",
      "No, you are more away Farther\n",
      " enter a try from [0,100]      your answer is : 20\n",
      "No, you are more away Farther\n",
      " enter a try from [0,100]      your answer is : 30\n",
      " yes, you are more closer keep going \n",
      " enter a try from [0,100]      your answer is : 35\n",
      " yes, you are more closer keep going \n",
      " enter a try from [0,100]      your answer is : 3\n",
      "No, you are more away Farther\n",
      " enter a try from [0,100]      your answer is : 31\n",
      " yes, you are more closer keep going \n",
      " enter a try from [0,100]      your answer is : 32\n",
      " yes, you are more closer keep going \n",
      " enter a try from [0,100]      your answer is : 33\n",
      " yes, you are more closer keep going \n",
      " enter a try from [0,100]      your answer is : 34\n",
      " yes, you are more closer keep going \n",
      " enter a try from [0,100]      your answer is : 35\n",
      " yes, you are more closer keep going \n",
      " enter a try from [0,100]      your answer is : 36\n",
      " yes, you are more closer keep going \n",
      " enter a try from [0,100]      your answer is : 50\n",
      " yes, you are more closer keep going \n",
      " enter a try from [0,100]      your answer is : 60\n",
      " yes, you are more closer keep going \n",
      " enter a try from [0,100]      your answer is : 66\n",
      "No, you are more away Farther\n",
      " enter a try from [0,100]      your answer is : 62\n",
      "congratulation you win ! \n"
     ]
    }
   ],
   "source": [
    "while True :\n",
    "    numTry = numTry + 1 # 1 \n",
    "    answer = input (' enter a try from [0,100]      your answer is : ')\n",
    "    answer = int(answer)\n",
    "    myTry.append(answer)# stored \n",
    "    \n",
    "    #=====\n",
    "    if answer > 100 :\n",
    "        print(\"out of range enter <= 100\")\n",
    "        \n",
    "    elif answer < 0 :\n",
    "        print(\"out of range enter > = 0\")\n",
    "        pass\n",
    "    \n",
    "    #===\n",
    "    \n",
    "    elif(answer == Hunt):\n",
    "        print('congratulation you win ! ')\n",
    "        break\n",
    "        \n",
    "    else :\n",
    "        if numTry == 1:\n",
    "             first_comparision(answer)\n",
    "        else:\n",
    "            otherComparison(myTry,numTry)\n",
    "    \n",
    "    time.sleep(2)\n",
    "    \n",
    "    "
   ]
  },
  {
   "cell_type": "code",
   "execution_count": null,
   "metadata": {},
   "outputs": [],
   "source": []
  },
  {
   "cell_type": "code",
   "execution_count": null,
   "metadata": {},
   "outputs": [],
   "source": []
  }
 ],
 "metadata": {
  "kernelspec": {
   "display_name": "Python 3",
   "language": "python",
   "name": "python3"
  },
  "language_info": {
   "codemirror_mode": {
    "name": "ipython",
    "version": 3
   },
   "file_extension": ".py",
   "mimetype": "text/x-python",
   "name": "python",
   "nbconvert_exporter": "python",
   "pygments_lexer": "ipython3",
   "version": "3.7.0"
  }
 },
 "nbformat": 4,
 "nbformat_minor": 2
}
